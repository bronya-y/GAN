{
  "nbformat": 4,
  "nbformat_minor": 0,
  "metadata": {
    "colab": {
      "name": "gan高斯分布拟合5.ipynb",
      "provenance": [],
      "collapsed_sections": [],
      "authorship_tag": "ABX9TyNg1erlz8+a5UgFbuCDHUlF",
      "include_colab_link": true
    },
    "kernelspec": {
      "name": "python3",
      "display_name": "Python 3"
    },
    "language_info": {
      "name": "python"
    }
  },
  "cells": [
    {
      "cell_type": "markdown",
      "metadata": {
        "id": "view-in-github",
        "colab_type": "text"
      },
      "source": [
        "<a href=\"https://colab.research.google.com/github/bronya-y/GAN/blob/main/gan%E9%AB%98%E6%96%AF%E5%88%86%E5%B8%83%E6%8B%9F%E5%90%885.ipynb\" target=\"_parent\"><img src=\"https://colab.research.google.com/assets/colab-badge.svg\" alt=\"Open In Colab\"/></a>"
      ]
    },
    {
      "cell_type": "code",
      "metadata": {
        "id": "b0C8B8OoOdZc"
      },
      "source": [
        "import torch\n",
        "import torch.nn as nn\n",
        "import torch.optim as optim\n",
        "from torch.distributions.normal import Normal\n",
        "# from torch.distributions.\n",
        "import numpy as np\n",
        "import matplotlib.pyplot as plt"
      ],
      "execution_count": 67,
      "outputs": []
    },
    {
      "cell_type": "code",
      "metadata": {
        "colab": {
          "base_uri": "https://localhost:8080/"
        },
        "id": "S0w9VU1DOzpV",
        "outputId": "02e309a0-c847-4468-e87a-33b89aedcf30"
      },
      "source": [
        "normal_samp = Normal(3,0.5)\n",
        "data = normal_samp.sample((30000,))\n",
        "print(data)\n",
        "data = torch.sort(data)\n",
        "print(data.values.shape)"
      ],
      "execution_count": 68,
      "outputs": [
        {
          "output_type": "stream",
          "name": "stdout",
          "text": [
            "tensor([3.1836, 2.4200, 3.5235,  ..., 3.5332, 3.7242, 2.6743])\n",
            "torch.Size([30000])\n"
          ]
        }
      ]
    },
    {
      "cell_type": "code",
      "metadata": {
        "colab": {
          "base_uri": "https://localhost:8080/",
          "height": 265
        },
        "id": "KjWLMYrtRCs0",
        "outputId": "466e0160-f1b2-428f-fe4d-5c08ddab109f"
      },
      "source": [
        "# x1=x\n",
        "data2 = data.values.numpy()\n",
        "# print(x,data)\n",
        "plt.hist(x=data2,bins=1000,range=(2,4))\n",
        "#第3步：显示图形\n",
        "plt.show()"
      ],
      "execution_count": 69,
      "outputs": [
        {
          "output_type": "display_data",
          "data": {
            "image/png": "[encoded data removed]",
            "text/plain": [
              "<Figure size 432x288 with 1 Axes>"
            ]
          },
          "metadata": {
            "needs_background": "light"
          }
        }
      ]
    },
    {
      "cell_type": "code",
      "metadata": {
        "id": "pNIzsONRU6kf"
      },
      "source": [
        "class Generator(nn.Module):\n",
        "    def __init__(self, input_size, hidden_size, output_size):\n",
        "        super(Generator, self).__init__()\n",
        "        self.map1 = nn.Linear(input_size, hidden_size)\n",
        "        self.map2 = nn.Linear(hidden_size, hidden_size)\n",
        "        self.map3 = nn.Linear(hidden_size, output_size)\n",
        "        self.xfer = torch.nn.SELU()\n",
        "\n",
        "    def forward(self, x):\n",
        "        x = self.xfer( self.map1(x) )\n",
        "        x = self.xfer( self.map2(x) )\n",
        "        return self.xfer( self.map3( x ) )"
      ],
      "execution_count": 70,
      "outputs": []
    },
    {
      "cell_type": "code",
      "metadata": {
        "id": "Wb3ThD2_XKP9"
      },
      "source": [
        "class Discriminator(nn.Module):\n",
        "    def __init__(self, input_size, hidden_size, output_size):\n",
        "        super(Discriminator, self).__init__()\n",
        "        self.map1 = nn.Linear(input_size, hidden_size)\n",
        "        self.map2 = nn.Linear(hidden_size, hidden_size)\n",
        "        self.map3 = nn.Linear(hidden_size, output_size)\n",
        "        self.elu = torch.nn.ELU()\n",
        "\n",
        "    def forward(self, x):\n",
        "        x = self.elu(self.map1(x))\n",
        "        x = self.elu(self.map2(x))\n",
        "        return torch.sigmoid( self.map3(x) )"
      ],
      "execution_count": 71,
      "outputs": []
    },
    {
      "cell_type": "code",
      "metadata": {
        "colab": {
          "base_uri": "https://localhost:8080/"
        },
        "id": "m4Zm4SZ2XLZo",
        "outputId": "6980842e-2d6f-4527-c782-220c66964570"
      },
      "source": [
        "from torchsummary import summary\n",
        "gg = Generator(10,20,10)\n",
        "summary(gg,(10,))"
      ],
      "execution_count": 72,
      "outputs": [
        {
          "output_type": "stream",
          "name": "stdout",
          "text": [
            "----------------------------------------------------------------\n",
            "        Layer (type)               Output Shape         Param #\n",
            "================================================================\n",
            "            Linear-1                   [-1, 20]             220\n",
            "              SELU-2                   [-1, 20]               0\n",
            "            Linear-3                   [-1, 20]             420\n",
            "              SELU-4                   [-1, 20]               0\n",
            "            Linear-5                   [-1, 10]             210\n",
            "              SELU-6                   [-1, 10]               0\n",
            "================================================================\n",
            "Total params: 850\n",
            "Trainable params: 850\n",
            "Non-trainable params: 0\n",
            "----------------------------------------------------------------\n",
            "Input size (MB): 0.00\n",
            "Forward/backward pass size (MB): 0.00\n",
            "Params size (MB): 0.00\n",
            "Estimated Total Size (MB): 0.00\n",
            "----------------------------------------------------------------\n"
          ]
        }
      ]
    },
    {
      "cell_type": "code",
      "metadata": {
        "id": "a8cLiKTe4f_b"
      },
      "source": [
        "epochs = 50000\n",
        "G_in = 10 #G的输入长度\n",
        "G_hid = 100\n",
        "G_out = 200\n",
        "D_in = 200  #G_out与D_in应该一样\n",
        "D_hid = 50\n",
        "D_out = 1\n",
        "d_learning_rate = 3e-3\n",
        "g_learning_rate = 8e-3\n",
        "\n",
        "data_mean = 3.0\n",
        "data_stddev = 0.2\n",
        "\n",
        "d_batch_size = 15\n",
        "g_batch_size = 10\n",
        "\n",
        "G = Generator(G_in,G_hid,G_out) #实例化G\n",
        "D = Discriminator(D_in,D_hid,D_out) #实例化D\n",
        "\n",
        "\n",
        "def get_real_sampler(mu, sigma):\n",
        "    dist = Normal( mu, sigma )\n",
        "    return lambda m, n: dist.sample( (m, n) ).requires_grad_() #lambda用法，lambda 数据：对数据的操作\n",
        "\n",
        "def get_noise_sampler():\n",
        "    return lambda m, n: torch.rand(m, n).requires_grad_()  # m*n形状的随机分布数据采样\n",
        "\n",
        "actual_data = get_real_sampler( data_mean, data_stddev ) #采样高斯分布的函数\n",
        "noise_data  = get_noise_sampler() #采样随机分布的函数\n",
        "\n",
        "criterion = nn.BCELoss() #损失函数定义\n",
        "d_optimizer = optim.SGD(D.parameters(), lr=d_learning_rate ) #, betas=optim_betas) #优化器\n",
        "g_optimizer = optim.SGD(G.parameters(), lr=g_learning_rate ) #, betas=optim_betas) #优化器"
      ],
      "execution_count": 73,
      "outputs": []
    },
    {
      "cell_type": "code",
      "metadata": {
        "id": "7_YUFK28XknN"
      },
      "source": [
        "for epoch in range(epochs):\n",
        "  d_optimizer.zero_grad()\n",
        "  real_data = actual_data(d_batch_size,D_in)\n",
        "  real_target = torch.ones(d_batch_size,1)\n",
        "  d_r_pred = D(real_data)\n",
        "  d_r_loss = criterion(d_r_pred,real_target)\n",
        "  d_r_loss.backward()\n",
        "  d_optimizer.step()\n",
        "\n",
        "  d_optimizer.zero_grad()\n",
        "  noise = noise_data( d_batch_size, G_in )\n",
        "  fake_data = G( noise ) \n",
        "  fake_target = torch.zeros( d_batch_size, 1 )\n",
        "  d_g_pred = D( fake_data )\n",
        "  d_g_loss = criterion( d_g_pred, fake_target)  # zeros = fake\n",
        "  d_g_loss.backward()\n",
        "  d_optimizer.step()\n",
        "  # print(d_r_pred.shape,real_target.shape)\n",
        "\n",
        "  g_optimizer.zero_grad()\n",
        "  noise = noise_data( g_batch_size, G_in )\n",
        "  fake_data = G( noise )\n",
        "  fake_decision = D( fake_data )\n",
        "  error = criterion( fake_decision, torch.ones( g_batch_size, 1 ) )  # we want to fool, so pretend it's all genuine\n",
        "  error.backward()\n",
        "  g_optimizer.step()\n",
        "\n",
        "torch.save(D, \"/content/model/D.pth\") \n",
        "torch.save(G, \"/content/model/G.pth\")\n",
        "\n"
      ],
      "execution_count": 74,
      "outputs": []
    },
    {
      "cell_type": "code",
      "metadata": {
        "id": "W3JQmSuJKI5z"
      },
      "source": [
        "# dd = Generator(G_in,G_hid,G_out) #实例化G\n",
        "GG =torch.load(\"/content/model/G.pth\")"
      ],
      "execution_count": 75,
      "outputs": []
    },
    {
      "cell_type": "code",
      "metadata": {
        "colab": {
          "base_uri": "https://localhost:8080/",
          "height": 265
        },
        "id": "E1iqjS5DKYle",
        "outputId": "971cbd29-35fc-4c41-eff1-6390de726f44"
      },
      "source": [
        "# x1=x\n",
        "data2 = data.values.numpy()\n",
        "# print(x,data)\n",
        "plt.hist(x=data2,bins=1000,range=(2,4))\n",
        "#第3步：显示图形\n",
        "plt.show()"
      ],
      "execution_count": 76,
      "outputs": [
        {
          "output_type": "display_data",
          "data": {
            "image/png": "[encoded data removed]",
            "text/plain": [
              "<Figure size 432x288 with 1 Axes>"
            ]
          },
          "metadata": {
            "needs_background": "light"
          }
        }
      ]
    },
    {
      "cell_type": "code",
      "metadata": {
        "colab": {
          "base_uri": "https://localhost:8080/",
          "height": 265
        },
        "id": "vVFIvEQwKgAO",
        "outputId": "79d22617-6132-42ab-e322-81babf463172"
      },
      "source": [
        "noise = noise_data( 1, G_in )\n",
        "fake_data = GG( noise ) \n",
        "nnp =np.zeros(200,)\n",
        "for i in range(200):\n",
        "  nnp[i] = fake_data[0][i]\n",
        "plt.hist(x=nnp,bins=30,range=(1,10))\n",
        "plt.show()"
      ],
      "execution_count": 82,
      "outputs": [
        {
          "output_type": "display_data",
          "data": {
            "image/png": "[encoded data removed]",
            "text/plain": [
              "<Figure size 432x288 with 1 Axes>"
            ]
          },
          "metadata": {
            "needs_background": "light"
          }
        }
      ]
    }
  ]
}